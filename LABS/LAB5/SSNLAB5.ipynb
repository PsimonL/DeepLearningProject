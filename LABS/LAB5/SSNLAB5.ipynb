{
 "nbformat": 4,
 "nbformat_minor": 0,
 "metadata": {
  "colab": {
   "provenance": []
  },
  "kernelspec": {
   "name": "python3",
   "display_name": "Python 3"
  },
  "language_info": {
   "name": "python"
  }
 },
 "cells": [
  {
   "cell_type": "markdown",
   "source": [
    "TODO: LAB NIEUKOŃCZONY\n",
    "https://www.datacamp.com/tutorial/comprehensive-introduction-graph-neural-networks-gnns-tutorial\n",
    "https://towardsdatascience.com/graph-convolutional-networks-introduction-to-gnns-24b3f60d6c95"
   ],
   "metadata": {
    "collapsed": false
   }
  },
  {
   "cell_type": "code",
   "execution_count": 140,
   "metadata": {
    "colab": {
     "base_uri": "https://localhost:8080/"
    },
    "id": "9q9g22pEaixf",
    "outputId": "f1721853-9ce0-4a7a-a2c7-c4714482ef1f"
   },
   "outputs": [
    {
     "output_type": "stream",
     "name": "stdout",
     "text": [
      "Requirement already satisfied: torch_geometric in /usr/local/lib/python3.10/dist-packages (2.5.2)\n",
      "Requirement already satisfied: tqdm in /usr/local/lib/python3.10/dist-packages (from torch_geometric) (4.66.2)\n",
      "Requirement already satisfied: numpy in /usr/local/lib/python3.10/dist-packages (from torch_geometric) (1.25.2)\n",
      "Requirement already satisfied: scipy in /usr/local/lib/python3.10/dist-packages (from torch_geometric) (1.11.4)\n",
      "Requirement already satisfied: fsspec in /usr/local/lib/python3.10/dist-packages (from torch_geometric) (2023.6.0)\n",
      "Requirement already satisfied: jinja2 in /usr/local/lib/python3.10/dist-packages (from torch_geometric) (3.1.3)\n",
      "Requirement already satisfied: aiohttp in /usr/local/lib/python3.10/dist-packages (from torch_geometric) (3.9.3)\n",
      "Requirement already satisfied: requests in /usr/local/lib/python3.10/dist-packages (from torch_geometric) (2.31.0)\n",
      "Requirement already satisfied: pyparsing in /usr/local/lib/python3.10/dist-packages (from torch_geometric) (3.1.2)\n",
      "Requirement already satisfied: scikit-learn in /usr/local/lib/python3.10/dist-packages (from torch_geometric) (1.2.2)\n",
      "Requirement already satisfied: psutil>=5.8.0 in /usr/local/lib/python3.10/dist-packages (from torch_geometric) (5.9.5)\n",
      "Requirement already satisfied: aiosignal>=1.1.2 in /usr/local/lib/python3.10/dist-packages (from aiohttp->torch_geometric) (1.3.1)\n",
      "Requirement already satisfied: attrs>=17.3.0 in /usr/local/lib/python3.10/dist-packages (from aiohttp->torch_geometric) (23.2.0)\n",
      "Requirement already satisfied: frozenlist>=1.1.1 in /usr/local/lib/python3.10/dist-packages (from aiohttp->torch_geometric) (1.4.1)\n",
      "Requirement already satisfied: multidict<7.0,>=4.5 in /usr/local/lib/python3.10/dist-packages (from aiohttp->torch_geometric) (6.0.5)\n",
      "Requirement already satisfied: yarl<2.0,>=1.0 in /usr/local/lib/python3.10/dist-packages (from aiohttp->torch_geometric) (1.9.4)\n",
      "Requirement already satisfied: async-timeout<5.0,>=4.0 in /usr/local/lib/python3.10/dist-packages (from aiohttp->torch_geometric) (4.0.3)\n",
      "Requirement already satisfied: MarkupSafe>=2.0 in /usr/local/lib/python3.10/dist-packages (from jinja2->torch_geometric) (2.1.5)\n",
      "Requirement already satisfied: charset-normalizer<4,>=2 in /usr/local/lib/python3.10/dist-packages (from requests->torch_geometric) (3.3.2)\n",
      "Requirement already satisfied: idna<4,>=2.5 in /usr/local/lib/python3.10/dist-packages (from requests->torch_geometric) (3.6)\n",
      "Requirement already satisfied: urllib3<3,>=1.21.1 in /usr/local/lib/python3.10/dist-packages (from requests->torch_geometric) (2.0.7)\n",
      "Requirement already satisfied: certifi>=2017.4.17 in /usr/local/lib/python3.10/dist-packages (from requests->torch_geometric) (2024.2.2)\n",
      "Requirement already satisfied: joblib>=1.1.1 in /usr/local/lib/python3.10/dist-packages (from scikit-learn->torch_geometric) (1.4.0)\n",
      "Requirement already satisfied: threadpoolctl>=2.0.0 in /usr/local/lib/python3.10/dist-packages (from scikit-learn->torch_geometric) (3.4.0)\n"
     ]
    }
   ],
   "source": [
    "!pip install torch_geometric"
   ]
  },
  {
   "cell_type": "code",
   "source": [
    "import torch\n",
    "import torch.nn as nn\n",
    "import torch.nn.functional as F\n",
    "\n",
    "from torch_geometric.nn import GCNConv, GINConv, GATConv\n",
    "from sklearn.manifold import TSNE\n",
    "\n",
    "from torch_geometric.data import DataLoader\n",
    "import networkx as nx\n",
    "import random\n",
    "import matplotlib.pyplot as plt\n",
    "from torch_geometric.utils.convert import to_networkx\n"
   ],
   "metadata": {
    "id": "8aGrczXLaosf"
   },
   "execution_count": 221,
   "outputs": []
  },
  {
   "cell_type": "code",
   "source": [
    "def check_dataset(dataset):\n",
    "  print(f'Dataset: {dataset}:')\n",
    "  print('======================')\n",
    "  print(f'Number of graphs: {len(dataset)}')\n",
    "  print(f'Number of features: {dataset.num_features}')\n",
    "  print(f'Number of classes: {dataset.num_classes}')\n",
    "\n",
    "  data = dataset[0]  # Get the first graph object.\n",
    "  print(data)\n",
    "\n",
    "\n",
    "def visualize(h, color):\n",
    "    z = TSNE(n_components=2).fit_transform(h.detach().cpu().numpy())\n",
    "\n",
    "    plt.figure(figsize=(10,10))\n",
    "    plt.xticks([])\n",
    "    plt.yticks([])\n",
    "\n",
    "    plt.scatter(z[:, 0], z[:, 1], s=70, c=color, cmap=\"Set2\")\n",
    "    plt.show()\n",
    "\n",
    "def draw_true_graph_texas(G):\n",
    "    plt.figure(figsize=(12, 8))\n",
    "    pos = nx.spring_layout(G, seed=42)\n",
    "    nx.draw_networkx_nodes(G, pos, node_color=data.y, cmap='Set1', node_size=500)\n",
    "    nx.draw_networkx_edges(G, pos)\n",
    "    plt.title(\"True Graph\")\n",
    "    plt.show()\n",
    "\n",
    "def draw_graph_predict_texas(G, pred):\n",
    "    plt.figure(figsize=(12, 8))\n",
    "    pos = nx.spring_layout(G, seed=42)\n",
    "    nx.draw_networkx_nodes(G, pos, node_color=pred, cmap='Set1', node_size=500)\n",
    "    nx.draw_networkx_edges(G, pos)\n",
    "    plt.title(\"Predicted Graph\")\n",
    "    plt.show()"
   ],
   "metadata": {
    "id": "TL4JzVyBgTmo"
   },
   "execution_count": 188,
   "outputs": []
  },
  {
   "cell_type": "code",
   "source": [
    "from torch_geometric.datasets import WebKB\n",
    "from torch_geometric.datasets import TUDataset\n",
    "from torch_geometric.datasets import KarateClub\n",
    "from torch_geometric.datasets import Planetoid"
   ],
   "metadata": {
    "id": "7jwISla1HrA1"
   },
   "execution_count": 189,
   "outputs": []
  },
  {
   "cell_type": "code",
   "source": [
    "datasetTU = TUDataset(root='data/TUDataset', name='MUTAG')\n",
    "check_dataset(datasetTU)"
   ],
   "metadata": {
    "colab": {
     "base_uri": "https://localhost:8080/"
    },
    "id": "SznrI1ICQoyP",
    "outputId": "91710519-5220-4c6e-cf29-4949f1afdf54"
   },
   "execution_count": 190,
   "outputs": [
    {
     "output_type": "stream",
     "name": "stdout",
     "text": [
      "Dataset: MUTAG(188):\n",
      "======================\n",
      "Number of graphs: 188\n",
      "Number of features: 7\n",
      "Number of classes: 2\n",
      "Data(edge_index=[2, 38], x=[17, 7], edge_attr=[38, 4], y=[1])\n"
     ]
    }
   ]
  },
  {
   "cell_type": "code",
   "source": [
    "datasetPlanetoid = Planetoid(root='/tmp/Cora', name='Cora')\n",
    "check_dataset(datasetPlanetoid)"
   ],
   "metadata": {
    "colab": {
     "base_uri": "https://localhost:8080/"
    },
    "id": "SwWk4YnbQprW",
    "outputId": "fe550356-456e-48b2-cf8d-04e7f4bf2ca3"
   },
   "execution_count": 191,
   "outputs": [
    {
     "output_type": "stream",
     "name": "stdout",
     "text": [
      "Dataset: Cora():\n",
      "======================\n",
      "Number of graphs: 1\n",
      "Number of features: 1433\n",
      "Number of classes: 7\n",
      "Data(x=[2708, 1433], edge_index=[2, 10556], y=[2708], train_mask=[2708], val_mask=[2708], test_mask=[2708])\n"
     ]
    }
   ]
  },
  {
   "cell_type": "code",
   "source": [
    "datasetKB = WebKB(root='.', name='texas')\n",
    "check_dataset(datasetKB)"
   ],
   "metadata": {
    "colab": {
     "base_uri": "https://localhost:8080/"
    },
    "id": "QVeg4RPjQqZu",
    "outputId": "9e620312-c3e4-41dc-e4a5-dc09510e35b9"
   },
   "execution_count": 192,
   "outputs": [
    {
     "output_type": "stream",
     "name": "stdout",
     "text": [
      "Dataset: texas():\n",
      "======================\n",
      "Number of graphs: 1\n",
      "Number of features: 1703\n",
      "Number of classes: 5\n",
      "Data(x=[183, 1703], edge_index=[2, 325], y=[183], train_mask=[183, 10], val_mask=[183, 10], test_mask=[183, 10])\n"
     ]
    }
   ]
  },
  {
   "cell_type": "code",
   "source": [
    "class GCN(torch.nn.Module):\n",
    "    def __init__(self, dataset):\n",
    "        super(GCN, self).__init__()\n",
    "        self.conv1 = GCNConv(dataset.num_node_features, 16)\n",
    "        self.conv2 = GCNConv(16, dataset.num_classes)\n",
    "\n",
    "    def forward(self, x, edge_index):\n",
    "        x = self.conv1(x, edge_index)\n",
    "        x = F.relu(x)\n",
    "        x = F.dropout(x, training=self.training)\n",
    "        x = self.conv2(x, edge_index)\n",
    "        return F.log_softmax(x, dim=1)\n",
    "\n",
    "class GIN(torch.nn.Module):\n",
    "    def __init__(self, dataset):\n",
    "        super(GIN, self).__init__()\n",
    "        self.conv1 = GINConv(dataset.num_node_features, 16)\n",
    "        self.conv2 = GINConv(16, dataset.num_classes)\n",
    "        self.layers = nn.ModuleList([self.conv1, self.conv2])\n",
    "\n",
    "    def forward(self, x, edge_index):\n",
    "        x = self.conv1(x, edge_index)\n",
    "        x = F.relu(x)\n",
    "        x = F.dropout(x, training=self.training)\n",
    "        x = self.conv2(x, edge_index)\n",
    "        return F.log_softmax(x, dim=1)\n",
    "\n",
    "class GAT(torch.nn.Module):\n",
    "    def __init__(self, dataset):\n",
    "        super(GAT, self).__init__()\n",
    "        self.conv1 = GATConv(dataset.num_node_features, 16, heads=8)\n",
    "        self.conv2 = GATConv(16 * 8, dataset.num_classes, heads=1)\n",
    "\n",
    "    def forward(self, x, edge_index):\n",
    "        x = self.conv1(x, edge_index)\n",
    "        x = F.relu(x)\n",
    "        x = F.dropout(x, training=self.training)\n",
    "        x = self.conv2(x, edge_index)\n",
    "        return F.log_softmax(x, dim=1)"
   ],
   "metadata": {
    "id": "pHIC9IgtKYqA"
   },
   "execution_count": 223,
   "outputs": []
  },
  {
   "cell_type": "code",
   "source": [
    "def training_loop(dataset, model, criterion, optimizer, skip_visualisation):\n",
    "    # Load the first graph from the dataset\n",
    "    data = dataset[0]\n",
    "\n",
    "    # Randomly select 10 nodes as training nodes\n",
    "    data.train_mask = torch.zeros(data.num_nodes, dtype=torch.bool)\n",
    "    data.train_mask[random.sample(range(data.num_nodes), 10)] = 1\n",
    "\n",
    "    # Convert the data to a networkx graph\n",
    "    G = to_networkx(data)\n",
    "\n",
    "    # Training loop with classification output for each epoch\n",
    "    for epoch in range(20):\n",
    "        print(f\"---------------------------- EPOCH: {epoch}---------------------------------------\")\n",
    "        model.train()\n",
    "        optimizer.zero_grad()\n",
    "        out = model(data.x, data.edge_index)\n",
    "        loss = criterion(out[data.train_mask], data.y[data.train_mask])\n",
    "        loss.backward()\n",
    "        optimizer.step()\n",
    "        model.eval()\n",
    "        pred = model(data.x, data.edge_index).argmax(dim=1)\n",
    "        acc = (pred[data.train_mask] == data.y[data.train_mask]).float().mean()\n",
    "        print(f'Epoch {epoch}: Train Accuracy: {acc.item() * 100:.4f}%')\n",
    "\n",
    "        # Draw the true graph and the predicted graph\n",
    "        if not skip_visualisation:\n",
    "          draw_true_graph_texas(to_networkx(data))\n",
    "          draw_graph_predict_texas(to_networkx(data), pred)\n",
    "\n",
    "        print(\"-------------------------------------------------------------------\")\n",
    "\n",
    "\n",
    "    # Set the model to evaluation mode and display the results\n",
    "    model.eval()\n",
    "    pred = model(data.x, data.edge_index).argmax(dim=1)\n",
    "    acc = (pred[data.train_mask] == data.y[data.train_mask]).float().mean()\n",
    "    print(f'Final Training Accuracy: {acc.item() * 100:.4f}')\n",
    "\n",
    "    # Display the classification results for all nodes\n",
    "    pred = model(data.x, data.edge_index).argmax(dim=1)\n",
    "    print(f'Predicted Class Labels: {pred}')"
   ],
   "metadata": {
    "id": "sIGiJoobJIV9"
   },
   "execution_count": 218,
   "outputs": []
  },
  {
   "cell_type": "code",
   "source": [
    "skip_visualisation = True"
   ],
   "metadata": {
    "id": "alOYMJ7frKKa"
   },
   "execution_count": 219,
   "outputs": []
  },
  {
   "cell_type": "code",
   "source": [
    "model_GCN = GCN(datasetKB)\n",
    "criterion_GCN = torch.nn.NLLLoss()\n",
    "optimizer_GCN = torch.optim.Adam(model_GCN.parameters(), lr=0.001)\n",
    "\n",
    "training_loop(datasetKB, model_GCN, criterion_GCN, optimizer_GCN, skip_visualisation)"
   ],
   "metadata": {
    "colab": {
     "base_uri": "https://localhost:8080/"
    },
    "id": "JlOWmuvQK8MQ",
    "outputId": "fe17c0bc-6814-4c7c-b0c3-c3ae4c723719"
   },
   "execution_count": 215,
   "outputs": [
    {
     "output_type": "stream",
     "name": "stdout",
     "text": [
      "---------------------------- EPOCH: 0---------------------------------------\n",
      "Epoch 0: Train Accuracy: 20.0000%\n",
      "-------------------------------------------------------------------\n",
      "---------------------------- EPOCH: 1---------------------------------------\n",
      "Epoch 1: Train Accuracy: 40.0000%\n",
      "-------------------------------------------------------------------\n",
      "---------------------------- EPOCH: 2---------------------------------------\n",
      "Epoch 2: Train Accuracy: 60.0000%\n",
      "-------------------------------------------------------------------\n",
      "---------------------------- EPOCH: 3---------------------------------------\n",
      "Epoch 3: Train Accuracy: 70.0000%\n",
      "-------------------------------------------------------------------\n",
      "---------------------------- EPOCH: 4---------------------------------------\n",
      "Epoch 4: Train Accuracy: 70.0000%\n",
      "-------------------------------------------------------------------\n",
      "---------------------------- EPOCH: 5---------------------------------------\n",
      "Epoch 5: Train Accuracy: 70.0000%\n",
      "-------------------------------------------------------------------\n",
      "---------------------------- EPOCH: 6---------------------------------------\n",
      "Epoch 6: Train Accuracy: 70.0000%\n",
      "-------------------------------------------------------------------\n",
      "---------------------------- EPOCH: 7---------------------------------------\n",
      "Epoch 7: Train Accuracy: 70.0000%\n",
      "-------------------------------------------------------------------\n",
      "---------------------------- EPOCH: 8---------------------------------------\n",
      "Epoch 8: Train Accuracy: 70.0000%\n",
      "-------------------------------------------------------------------\n",
      "---------------------------- EPOCH: 9---------------------------------------\n",
      "Epoch 9: Train Accuracy: 70.0000%\n",
      "-------------------------------------------------------------------\n",
      "---------------------------- EPOCH: 10---------------------------------------\n",
      "Epoch 10: Train Accuracy: 70.0000%\n",
      "-------------------------------------------------------------------\n",
      "---------------------------- EPOCH: 11---------------------------------------\n",
      "Epoch 11: Train Accuracy: 70.0000%\n",
      "-------------------------------------------------------------------\n",
      "---------------------------- EPOCH: 12---------------------------------------\n",
      "Epoch 12: Train Accuracy: 70.0000%\n",
      "-------------------------------------------------------------------\n",
      "---------------------------- EPOCH: 13---------------------------------------\n",
      "Epoch 13: Train Accuracy: 70.0000%\n",
      "-------------------------------------------------------------------\n",
      "---------------------------- EPOCH: 14---------------------------------------\n",
      "Epoch 14: Train Accuracy: 70.0000%\n",
      "-------------------------------------------------------------------\n",
      "---------------------------- EPOCH: 15---------------------------------------\n",
      "Epoch 15: Train Accuracy: 70.0000%\n",
      "-------------------------------------------------------------------\n",
      "---------------------------- EPOCH: 16---------------------------------------\n",
      "Epoch 16: Train Accuracy: 70.0000%\n",
      "-------------------------------------------------------------------\n",
      "---------------------------- EPOCH: 17---------------------------------------\n",
      "Epoch 17: Train Accuracy: 80.0000%\n",
      "-------------------------------------------------------------------\n",
      "---------------------------- EPOCH: 18---------------------------------------\n",
      "Epoch 18: Train Accuracy: 80.0000%\n",
      "-------------------------------------------------------------------\n",
      "---------------------------- EPOCH: 19---------------------------------------\n",
      "Epoch 19: Train Accuracy: 80.0000%\n",
      "-------------------------------------------------------------------\n",
      "Final Training Accuracy: 80.0000\n",
      "Predicted Class Labels: tensor([3, 0, 3, 3, 3, 3, 3, 0, 3, 3, 3, 3, 3, 3, 3, 3, 3, 3, 3, 3, 3, 3, 3, 3,\n",
      "        3, 3, 3, 3, 3, 3, 3, 3, 3, 3, 3, 3, 3, 3, 3, 3, 3, 3, 3, 3, 3, 3, 3, 3,\n",
      "        3, 3, 3, 3, 3, 3, 3, 3, 3, 3, 3, 3, 3, 3, 3, 3, 3, 3, 3, 3, 3, 3, 3, 3,\n",
      "        3, 3, 3, 3, 0, 3, 3, 3, 0, 3, 3, 3, 3, 3, 3, 3, 3, 3, 3, 3, 3, 3, 3, 3,\n",
      "        3, 3, 3, 2, 3, 3, 3, 3, 3, 3, 3, 3, 3, 3, 3, 3, 3, 3, 2, 3, 3, 3, 3, 3,\n",
      "        3, 3, 3, 0, 3, 3, 3, 3, 3, 3, 3, 3, 3, 3, 3, 3, 3, 3, 3, 3, 3, 0, 3, 3,\n",
      "        3, 3, 3, 3, 3, 3, 3, 3, 3, 3, 3, 3, 3, 0, 3, 3, 3, 3, 3, 3, 3, 3, 3, 3,\n",
      "        3, 3, 3, 3, 3, 3, 3, 3, 3, 3, 3, 3, 3, 3, 3])\n"
     ]
    }
   ]
  },
  {
   "cell_type": "code",
   "source": [
    "model_GIN = GIN(datasetKB)\n",
    "print(list(model_GIN.parameters()))\n",
    "criterion_GIN = torch.nn.NLLLoss()\n",
    "optimizer_GIN = torch.optim.Adam(model_GIN.parameters(), lr=0.001)\n",
    "\n",
    "training_loop(datasetKB, model_GIN, criterion_GIN, optimizer_GIN, skip_visualisation)"
   ],
   "metadata": {
    "colab": {
     "base_uri": "https://localhost:8080/",
     "height": 393
    },
    "id": "toJzBniTpdt1",
    "outputId": "9c2efa2f-4194-4524-eff7-14ac7b1fe27a"
   },
   "execution_count": 225,
   "outputs": [
    {
     "output_type": "stream",
     "name": "stdout",
     "text": [
      "[]\n"
     ]
    },
    {
     "output_type": "error",
     "ename": "ValueError",
     "evalue": "optimizer got an empty parameter list",
     "traceback": [
      "\u001B[0;31m---------------------------------------------------------------------------\u001B[0m",
      "\u001B[0;31mValueError\u001B[0m                                Traceback (most recent call last)",
      "\u001B[0;32m<ipython-input-225-c56ed6cb1c0d>\u001B[0m in \u001B[0;36m<cell line: 4>\u001B[0;34m()\u001B[0m\n\u001B[1;32m      2\u001B[0m \u001B[0mprint\u001B[0m\u001B[0;34m(\u001B[0m\u001B[0mlist\u001B[0m\u001B[0;34m(\u001B[0m\u001B[0mmodel_GIN\u001B[0m\u001B[0;34m.\u001B[0m\u001B[0mparameters\u001B[0m\u001B[0;34m(\u001B[0m\u001B[0;34m)\u001B[0m\u001B[0;34m)\u001B[0m\u001B[0;34m)\u001B[0m  \u001B[0;31m# Print the model parameters\u001B[0m\u001B[0;34m\u001B[0m\u001B[0;34m\u001B[0m\u001B[0m\n\u001B[1;32m      3\u001B[0m \u001B[0mcriterion_GIN\u001B[0m \u001B[0;34m=\u001B[0m \u001B[0mtorch\u001B[0m\u001B[0;34m.\u001B[0m\u001B[0mnn\u001B[0m\u001B[0;34m.\u001B[0m\u001B[0mNLLLoss\u001B[0m\u001B[0;34m(\u001B[0m\u001B[0;34m)\u001B[0m\u001B[0;34m\u001B[0m\u001B[0;34m\u001B[0m\u001B[0m\n\u001B[0;32m----> 4\u001B[0;31m \u001B[0moptimizer_GIN\u001B[0m \u001B[0;34m=\u001B[0m \u001B[0mtorch\u001B[0m\u001B[0;34m.\u001B[0m\u001B[0moptim\u001B[0m\u001B[0;34m.\u001B[0m\u001B[0mAdam\u001B[0m\u001B[0;34m(\u001B[0m\u001B[0mmodel_GIN\u001B[0m\u001B[0;34m.\u001B[0m\u001B[0mparameters\u001B[0m\u001B[0;34m(\u001B[0m\u001B[0;34m)\u001B[0m\u001B[0;34m,\u001B[0m \u001B[0mlr\u001B[0m\u001B[0;34m=\u001B[0m\u001B[0;36m0.001\u001B[0m\u001B[0;34m)\u001B[0m\u001B[0;34m\u001B[0m\u001B[0;34m\u001B[0m\u001B[0m\n\u001B[0m\u001B[1;32m      5\u001B[0m \u001B[0;34m\u001B[0m\u001B[0m\n\u001B[1;32m      6\u001B[0m \u001B[0mtraining_loop\u001B[0m\u001B[0;34m(\u001B[0m\u001B[0mdatasetKB\u001B[0m\u001B[0;34m,\u001B[0m \u001B[0mmodel_GIN\u001B[0m\u001B[0;34m,\u001B[0m \u001B[0mcriterion_GIN\u001B[0m\u001B[0;34m,\u001B[0m \u001B[0moptimizer_GIN\u001B[0m\u001B[0;34m,\u001B[0m \u001B[0mskip_visualisation\u001B[0m\u001B[0;34m)\u001B[0m\u001B[0;34m\u001B[0m\u001B[0;34m\u001B[0m\u001B[0m\n",
      "\u001B[0;32m/usr/local/lib/python3.10/dist-packages/torch/optim/adam.py\u001B[0m in \u001B[0;36m__init__\u001B[0;34m(self, params, lr, betas, eps, weight_decay, amsgrad, foreach, maximize, capturable, differentiable, fused)\u001B[0m\n\u001B[1;32m     43\u001B[0m                         \u001B[0mmaximize\u001B[0m\u001B[0;34m=\u001B[0m\u001B[0mmaximize\u001B[0m\u001B[0;34m,\u001B[0m \u001B[0mforeach\u001B[0m\u001B[0;34m=\u001B[0m\u001B[0mforeach\u001B[0m\u001B[0;34m,\u001B[0m \u001B[0mcapturable\u001B[0m\u001B[0;34m=\u001B[0m\u001B[0mcapturable\u001B[0m\u001B[0;34m,\u001B[0m\u001B[0;34m\u001B[0m\u001B[0;34m\u001B[0m\u001B[0m\n\u001B[1;32m     44\u001B[0m                         differentiable=differentiable, fused=fused)\n\u001B[0;32m---> 45\u001B[0;31m         \u001B[0msuper\u001B[0m\u001B[0;34m(\u001B[0m\u001B[0;34m)\u001B[0m\u001B[0;34m.\u001B[0m\u001B[0m__init__\u001B[0m\u001B[0;34m(\u001B[0m\u001B[0mparams\u001B[0m\u001B[0;34m,\u001B[0m \u001B[0mdefaults\u001B[0m\u001B[0;34m)\u001B[0m\u001B[0;34m\u001B[0m\u001B[0;34m\u001B[0m\u001B[0m\n\u001B[0m\u001B[1;32m     46\u001B[0m \u001B[0;34m\u001B[0m\u001B[0m\n\u001B[1;32m     47\u001B[0m         \u001B[0;32mif\u001B[0m \u001B[0mfused\u001B[0m\u001B[0;34m:\u001B[0m\u001B[0;34m\u001B[0m\u001B[0;34m\u001B[0m\u001B[0m\n",
      "\u001B[0;32m/usr/local/lib/python3.10/dist-packages/torch/optim/optimizer.py\u001B[0m in \u001B[0;36m__init__\u001B[0;34m(self, params, defaults)\u001B[0m\n\u001B[1;32m    271\u001B[0m         \u001B[0mparam_groups\u001B[0m \u001B[0;34m=\u001B[0m \u001B[0mlist\u001B[0m\u001B[0;34m(\u001B[0m\u001B[0mparams\u001B[0m\u001B[0;34m)\u001B[0m\u001B[0;34m\u001B[0m\u001B[0;34m\u001B[0m\u001B[0m\n\u001B[1;32m    272\u001B[0m         \u001B[0;32mif\u001B[0m \u001B[0mlen\u001B[0m\u001B[0;34m(\u001B[0m\u001B[0mparam_groups\u001B[0m\u001B[0;34m)\u001B[0m \u001B[0;34m==\u001B[0m \u001B[0;36m0\u001B[0m\u001B[0;34m:\u001B[0m\u001B[0;34m\u001B[0m\u001B[0;34m\u001B[0m\u001B[0m\n\u001B[0;32m--> 273\u001B[0;31m             \u001B[0;32mraise\u001B[0m \u001B[0mValueError\u001B[0m\u001B[0;34m(\u001B[0m\u001B[0;34m\"optimizer got an empty parameter list\"\u001B[0m\u001B[0;34m)\u001B[0m\u001B[0;34m\u001B[0m\u001B[0;34m\u001B[0m\u001B[0m\n\u001B[0m\u001B[1;32m    274\u001B[0m         \u001B[0;32mif\u001B[0m \u001B[0;32mnot\u001B[0m \u001B[0misinstance\u001B[0m\u001B[0;34m(\u001B[0m\u001B[0mparam_groups\u001B[0m\u001B[0;34m[\u001B[0m\u001B[0;36m0\u001B[0m\u001B[0;34m]\u001B[0m\u001B[0;34m,\u001B[0m \u001B[0mdict\u001B[0m\u001B[0;34m)\u001B[0m\u001B[0;34m:\u001B[0m\u001B[0;34m\u001B[0m\u001B[0;34m\u001B[0m\u001B[0m\n\u001B[1;32m    275\u001B[0m             \u001B[0mparam_groups\u001B[0m \u001B[0;34m=\u001B[0m \u001B[0;34m[\u001B[0m\u001B[0;34m{\u001B[0m\u001B[0;34m'params'\u001B[0m\u001B[0;34m:\u001B[0m \u001B[0mparam_groups\u001B[0m\u001B[0;34m}\u001B[0m\u001B[0;34m]\u001B[0m\u001B[0;34m\u001B[0m\u001B[0;34m\u001B[0m\u001B[0m\n",
      "\u001B[0;31mValueError\u001B[0m: optimizer got an empty parameter list"
     ]
    }
   ]
  },
  {
   "cell_type": "code",
   "source": [
    "model = GAT(datasetKB)\n",
    "criterion = torch.nn.NLLLoss()\n",
    "optimizer = torch.optim.Adam(model.parameters(), lr=0.001)\n",
    "\n",
    "training_loop(datasetKB, model, criterion, optimizer, skip_visualisation)"
   ],
   "metadata": {
    "colab": {
     "base_uri": "https://localhost:8080/"
    },
    "id": "oVEkyaidpeCp",
    "outputId": "34d19bdf-fb39-4c6b-a98c-4fc60db2223a"
   },
   "execution_count": 216,
   "outputs": [
    {
     "output_type": "stream",
     "name": "stdout",
     "text": [
      "---------------------------- EPOCH: 0---------------------------------------\n",
      "Epoch 0: Train Accuracy: 60.0000%\n",
      "-------------------------------------------------------------------\n",
      "---------------------------- EPOCH: 1---------------------------------------\n",
      "Epoch 1: Train Accuracy: 70.0000%\n",
      "-------------------------------------------------------------------\n",
      "---------------------------- EPOCH: 2---------------------------------------\n",
      "Epoch 2: Train Accuracy: 70.0000%\n",
      "-------------------------------------------------------------------\n",
      "---------------------------- EPOCH: 3---------------------------------------\n",
      "Epoch 3: Train Accuracy: 70.0000%\n",
      "-------------------------------------------------------------------\n",
      "---------------------------- EPOCH: 4---------------------------------------\n",
      "Epoch 4: Train Accuracy: 70.0000%\n",
      "-------------------------------------------------------------------\n",
      "---------------------------- EPOCH: 5---------------------------------------\n",
      "Epoch 5: Train Accuracy: 70.0000%\n",
      "-------------------------------------------------------------------\n",
      "---------------------------- EPOCH: 6---------------------------------------\n",
      "Epoch 6: Train Accuracy: 70.0000%\n",
      "-------------------------------------------------------------------\n",
      "---------------------------- EPOCH: 7---------------------------------------\n",
      "Epoch 7: Train Accuracy: 70.0000%\n",
      "-------------------------------------------------------------------\n",
      "---------------------------- EPOCH: 8---------------------------------------\n",
      "Epoch 8: Train Accuracy: 70.0000%\n",
      "-------------------------------------------------------------------\n",
      "---------------------------- EPOCH: 9---------------------------------------\n",
      "Epoch 9: Train Accuracy: 70.0000%\n",
      "-------------------------------------------------------------------\n",
      "---------------------------- EPOCH: 10---------------------------------------\n",
      "Epoch 10: Train Accuracy: 70.0000%\n",
      "-------------------------------------------------------------------\n",
      "---------------------------- EPOCH: 11---------------------------------------\n",
      "Epoch 11: Train Accuracy: 80.0000%\n",
      "-------------------------------------------------------------------\n",
      "---------------------------- EPOCH: 12---------------------------------------\n",
      "Epoch 12: Train Accuracy: 90.0000%\n",
      "-------------------------------------------------------------------\n",
      "---------------------------- EPOCH: 13---------------------------------------\n",
      "Epoch 13: Train Accuracy: 100.0000%\n",
      "-------------------------------------------------------------------\n",
      "---------------------------- EPOCH: 14---------------------------------------\n",
      "Epoch 14: Train Accuracy: 100.0000%\n",
      "-------------------------------------------------------------------\n",
      "---------------------------- EPOCH: 15---------------------------------------\n",
      "Epoch 15: Train Accuracy: 100.0000%\n",
      "-------------------------------------------------------------------\n",
      "---------------------------- EPOCH: 16---------------------------------------\n",
      "Epoch 16: Train Accuracy: 100.0000%\n",
      "-------------------------------------------------------------------\n",
      "---------------------------- EPOCH: 17---------------------------------------\n",
      "Epoch 17: Train Accuracy: 100.0000%\n",
      "-------------------------------------------------------------------\n",
      "---------------------------- EPOCH: 18---------------------------------------\n",
      "Epoch 18: Train Accuracy: 100.0000%\n",
      "-------------------------------------------------------------------\n",
      "---------------------------- EPOCH: 19---------------------------------------\n",
      "Epoch 19: Train Accuracy: 100.0000%\n",
      "-------------------------------------------------------------------\n",
      "Final Training Accuracy: 100.0000\n",
      "Predicted Class Labels: tensor([3, 3, 3, 3, 3, 3, 3, 3, 3, 3, 3, 3, 3, 3, 3, 3, 3, 3, 3, 3, 3, 3, 3, 3,\n",
      "        3, 3, 4, 3, 3, 3, 4, 3, 4, 4, 3, 4, 3, 3, 4, 3, 3, 3, 3, 3, 3, 3, 3, 3,\n",
      "        3, 3, 3, 3, 4, 3, 3, 3, 4, 2, 3, 3, 3, 3, 3, 4, 3, 3, 3, 2, 3, 4, 3, 3,\n",
      "        3, 3, 4, 4, 3, 4, 3, 3, 3, 4, 3, 3, 3, 3, 3, 4, 3, 3, 3, 4, 3, 3, 4, 3,\n",
      "        3, 3, 3, 4, 0, 3, 3, 3, 3, 3, 3, 3, 3, 4, 2, 3, 3, 3, 3, 3, 3, 4, 3, 3,\n",
      "        3, 3, 3, 3, 4, 3, 3, 3, 4, 3, 3, 0, 4, 3, 4, 4, 4, 4, 0, 4, 3, 3, 3, 4,\n",
      "        3, 3, 3, 3, 3, 3, 3, 3, 3, 3, 3, 4, 3, 3, 3, 3, 3, 4, 3, 3, 3, 3, 4, 3,\n",
      "        0, 4, 2, 3, 3, 3, 3, 3, 3, 3, 3, 4, 3, 4, 3])\n"
     ]
    }
   ]
  },
  {
   "cell_type": "markdown",
   "source": [
    "# GIN vs GAT vs GCN"
   ],
   "metadata": {
    "id": "5ep1WvDrsMCe"
   }
  }
 ]
}
