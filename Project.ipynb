{
 "cells": [
  {
   "cell_type": "markdown",
   "source": [
    "# Multivariate Time Series Forecasting with Transformers \n",
    "Dataset: http://bit.ly/covid19-poland"
   ],
   "metadata": {
    "collapsed": false
   }
  },
  {
   "cell_type": "code",
   "metadata": {
    "collapsed": true,
    "ExecuteTime": {
     "end_time": "2024-04-20T14:30:19.065177Z",
     "start_time": "2024-04-20T14:30:19.060939Z"
    }
   },
   "source": [
    "import torch\n",
    "import torch.nn as nn\n",
    "import torch.optim as optim\n",
    "import numpy as np\n",
    "import pandas as pd\n",
    "import matplotlib.pyplot as plt\n",
    "import math\n",
    "import networkx\n",
    "import seaborn\n",
    "import sklearn\n",
    "from tabulate import tabulate"
   ],
   "outputs": [],
   "execution_count": 18
  },
  {
   "cell_type": "markdown",
   "source": [
    "## Load dataset"
   ],
   "metadata": {
    "collapsed": false
   }
  },
  {
   "cell_type": "code",
   "source": [
    "df = pd.read_csv('DataSets/COVID-19_w_Polsce-Wzrost.csv', sep=';', usecols=[\"Data\", \"Nowe przypadki\", \"Zmiana liczby aktywnych przypadków\"])\n",
    "print(df.head())\n",
    "print(df.tail())\n",
    "print(f\"Number of records: {len(df)}\")\n",
    "print(\"Labels types:\")\n",
    "print(f\"{df.dtypes}\")\n",
    "\n",
    "# table = df.values.tolist()\n",
    "# headers = df.columns.tolist()\n",
    "# print(tabulate(table, headers=headers, tablefmt=\"pretty\"))\n",
    "\n",
    "# styled_df = df.style.format('{:^10}').set_properties(**{'border': '1px solid black', 'text-align': 'center'}).set_table_styles([{'selector': 'th', 'props': [('border', '1px solid black')]}])\n",
    "# styled_df"
   ],
   "metadata": {
    "collapsed": false,
    "ExecuteTime": {
     "end_time": "2024-04-20T14:30:19.111364Z",
     "start_time": "2024-04-20T14:30:19.101994Z"
    }
   },
   "outputs": [
    {
     "name": "stdout",
     "output_type": "stream",
     "text": [
      "   Data Nowe przypadki Zmiana liczby aktywnych przypadków\n",
      "0  3.03            + 0                                + 0\n",
      "1  4.03            + 1                                + 1\n",
      "2  5.03            + 0                                + 0\n",
      "3  6.03            + 4                                + 4\n",
      "4  7.03            + 1                                + 1\n",
      "      Data Nowe przypadki Zmiana liczby aktywnych przypadków\n",
      "738  11.03        + 11637                              2 917\n",
      "739  12.03            NaN                          5 169 557\n",
      "740    NaN            NaN                                NaN\n",
      "741    NaN            NaN                                NaN\n",
      "742    NaN            NaN                                NaN\n",
      "Number of records: 743\n",
      "Labels types:\n",
      "Data                                  float64\n",
      "Nowe przypadki                         object\n",
      "Zmiana liczby aktywnych przypadków     object\n",
      "dtype: object\n"
     ]
    }
   ],
   "execution_count": 19
  },
  {
   "cell_type": "markdown",
   "source": [
    "## Data preprocessing"
   ],
   "metadata": {
    "collapsed": false
   }
  },
  {
   "cell_type": "markdown",
   "source": [
    "### Remove NaNs"
   ],
   "metadata": {
    "collapsed": false
   }
  },
  {
   "cell_type": "code",
   "source": [
    "df = df.dropna()\n",
    "# for index, row in df.iterrows():\n",
    "#     if pd.isna(row['Data']):\n",
    "#         df.drop(index, inplace=True)\n",
    "print(f\"Number of records after dropping all NaNs: {len(df)}\")\n",
    "df"
   ],
   "metadata": {
    "collapsed": false,
    "ExecuteTime": {
     "end_time": "2024-04-20T14:30:19.121498Z",
     "start_time": "2024-04-20T14:30:19.114370Z"
    }
   },
   "outputs": [
    {
     "name": "stdout",
     "output_type": "stream",
     "text": [
      "Number of records after dropping all NaNs: 739\n"
     ]
    },
    {
     "data": {
      "text/plain": [
       "      Data Nowe przypadki Zmiana liczby aktywnych przypadków\n",
       "0     3.03            + 0                                + 0\n",
       "1     4.03            + 1                                + 1\n",
       "2     5.03            + 0                                + 0\n",
       "3     6.03            + 4                                + 4\n",
       "4     7.03            + 1                                + 1\n",
       "..     ...            ...                                ...\n",
       "734   7.03         + 5585                             -6 470\n",
       "735   8.03        + 13152                              2 945\n",
       "736   9.03        + 14415                              4 355\n",
       "737  10.03        + 13438                              4 794\n",
       "738  11.03        + 11637                              2 917\n",
       "\n",
       "[739 rows x 3 columns]"
      ],
      "text/html": [
       "<div>\n",
       "<style scoped>\n",
       "    .dataframe tbody tr th:only-of-type {\n",
       "        vertical-align: middle;\n",
       "    }\n",
       "\n",
       "    .dataframe tbody tr th {\n",
       "        vertical-align: top;\n",
       "    }\n",
       "\n",
       "    .dataframe thead th {\n",
       "        text-align: right;\n",
       "    }\n",
       "</style>\n",
       "<table border=\"1\" class=\"dataframe\">\n",
       "  <thead>\n",
       "    <tr style=\"text-align: right;\">\n",
       "      <th></th>\n",
       "      <th>Data</th>\n",
       "      <th>Nowe przypadki</th>\n",
       "      <th>Zmiana liczby aktywnych przypadków</th>\n",
       "    </tr>\n",
       "  </thead>\n",
       "  <tbody>\n",
       "    <tr>\n",
       "      <th>0</th>\n",
       "      <td>3.03</td>\n",
       "      <td>+ 0</td>\n",
       "      <td>+ 0</td>\n",
       "    </tr>\n",
       "    <tr>\n",
       "      <th>1</th>\n",
       "      <td>4.03</td>\n",
       "      <td>+ 1</td>\n",
       "      <td>+ 1</td>\n",
       "    </tr>\n",
       "    <tr>\n",
       "      <th>2</th>\n",
       "      <td>5.03</td>\n",
       "      <td>+ 0</td>\n",
       "      <td>+ 0</td>\n",
       "    </tr>\n",
       "    <tr>\n",
       "      <th>3</th>\n",
       "      <td>6.03</td>\n",
       "      <td>+ 4</td>\n",
       "      <td>+ 4</td>\n",
       "    </tr>\n",
       "    <tr>\n",
       "      <th>4</th>\n",
       "      <td>7.03</td>\n",
       "      <td>+ 1</td>\n",
       "      <td>+ 1</td>\n",
       "    </tr>\n",
       "    <tr>\n",
       "      <th>...</th>\n",
       "      <td>...</td>\n",
       "      <td>...</td>\n",
       "      <td>...</td>\n",
       "    </tr>\n",
       "    <tr>\n",
       "      <th>734</th>\n",
       "      <td>7.03</td>\n",
       "      <td>+ 5585</td>\n",
       "      <td>-6 470</td>\n",
       "    </tr>\n",
       "    <tr>\n",
       "      <th>735</th>\n",
       "      <td>8.03</td>\n",
       "      <td>+ 13152</td>\n",
       "      <td>2 945</td>\n",
       "    </tr>\n",
       "    <tr>\n",
       "      <th>736</th>\n",
       "      <td>9.03</td>\n",
       "      <td>+ 14415</td>\n",
       "      <td>4 355</td>\n",
       "    </tr>\n",
       "    <tr>\n",
       "      <th>737</th>\n",
       "      <td>10.03</td>\n",
       "      <td>+ 13438</td>\n",
       "      <td>4 794</td>\n",
       "    </tr>\n",
       "    <tr>\n",
       "      <th>738</th>\n",
       "      <td>11.03</td>\n",
       "      <td>+ 11637</td>\n",
       "      <td>2 917</td>\n",
       "    </tr>\n",
       "  </tbody>\n",
       "</table>\n",
       "<p>739 rows × 3 columns</p>\n",
       "</div>"
      ]
     },
     "execution_count": 20,
     "metadata": {},
     "output_type": "execute_result"
    }
   ],
   "execution_count": 20
  },
  {
   "cell_type": "markdown",
   "source": [
    "### Convert types"
   ],
   "metadata": {
    "collapsed": false
   }
  },
  {
   "cell_type": "code",
   "source": [
    "def is_string(value):\n",
    "    return isinstance(value, str)\n",
    "result = df.applymap(is_string)\n",
    "print(result)"
   ],
   "metadata": {
    "collapsed": false,
    "ExecuteTime": {
     "end_time": "2024-04-20T14:30:19.128231Z",
     "start_time": "2024-04-20T14:30:19.122509Z"
    }
   },
   "outputs": [
    {
     "name": "stdout",
     "output_type": "stream",
     "text": [
      "      Data  Nowe przypadki  Zmiana liczby aktywnych przypadków\n",
      "0    False            True                                True\n",
      "1    False            True                                True\n",
      "2    False            True                                True\n",
      "3    False            True                                True\n",
      "4    False            True                                True\n",
      "..     ...             ...                                 ...\n",
      "734  False            True                                True\n",
      "735  False            True                                True\n",
      "736  False            True                                True\n",
      "737  False            True                                True\n",
      "738  False            True                                True\n",
      "\n",
      "[739 rows x 3 columns]\n"
     ]
    },
    {
     "name": "stderr",
     "output_type": "stream",
     "text": [
      "C:\\Users\\Kamil\\AppData\\Local\\Temp\\ipykernel_8532\\3434313055.py:3: FutureWarning: DataFrame.applymap has been deprecated. Use DataFrame.map instead.\n",
      "  result = df.applymap(is_string)\n"
     ]
    }
   ],
   "execution_count": 21
  },
  {
   "cell_type": "code",
   "source": [
    "df"
   ],
   "metadata": {
    "collapsed": false,
    "ExecuteTime": {
     "end_time": "2024-04-20T14:30:19.140420Z",
     "start_time": "2024-04-20T14:30:19.133239Z"
    }
   },
   "outputs": [
    {
     "data": {
      "text/plain": [
       "      Data Nowe przypadki Zmiana liczby aktywnych przypadków\n",
       "0     3.03            + 0                                + 0\n",
       "1     4.03            + 1                                + 1\n",
       "2     5.03            + 0                                + 0\n",
       "3     6.03            + 4                                + 4\n",
       "4     7.03            + 1                                + 1\n",
       "..     ...            ...                                ...\n",
       "734   7.03         + 5585                             -6 470\n",
       "735   8.03        + 13152                              2 945\n",
       "736   9.03        + 14415                              4 355\n",
       "737  10.03        + 13438                              4 794\n",
       "738  11.03        + 11637                              2 917\n",
       "\n",
       "[739 rows x 3 columns]"
      ],
      "text/html": [
       "<div>\n",
       "<style scoped>\n",
       "    .dataframe tbody tr th:only-of-type {\n",
       "        vertical-align: middle;\n",
       "    }\n",
       "\n",
       "    .dataframe tbody tr th {\n",
       "        vertical-align: top;\n",
       "    }\n",
       "\n",
       "    .dataframe thead th {\n",
       "        text-align: right;\n",
       "    }\n",
       "</style>\n",
       "<table border=\"1\" class=\"dataframe\">\n",
       "  <thead>\n",
       "    <tr style=\"text-align: right;\">\n",
       "      <th></th>\n",
       "      <th>Data</th>\n",
       "      <th>Nowe przypadki</th>\n",
       "      <th>Zmiana liczby aktywnych przypadków</th>\n",
       "    </tr>\n",
       "  </thead>\n",
       "  <tbody>\n",
       "    <tr>\n",
       "      <th>0</th>\n",
       "      <td>3.03</td>\n",
       "      <td>+ 0</td>\n",
       "      <td>+ 0</td>\n",
       "    </tr>\n",
       "    <tr>\n",
       "      <th>1</th>\n",
       "      <td>4.03</td>\n",
       "      <td>+ 1</td>\n",
       "      <td>+ 1</td>\n",
       "    </tr>\n",
       "    <tr>\n",
       "      <th>2</th>\n",
       "      <td>5.03</td>\n",
       "      <td>+ 0</td>\n",
       "      <td>+ 0</td>\n",
       "    </tr>\n",
       "    <tr>\n",
       "      <th>3</th>\n",
       "      <td>6.03</td>\n",
       "      <td>+ 4</td>\n",
       "      <td>+ 4</td>\n",
       "    </tr>\n",
       "    <tr>\n",
       "      <th>4</th>\n",
       "      <td>7.03</td>\n",
       "      <td>+ 1</td>\n",
       "      <td>+ 1</td>\n",
       "    </tr>\n",
       "    <tr>\n",
       "      <th>...</th>\n",
       "      <td>...</td>\n",
       "      <td>...</td>\n",
       "      <td>...</td>\n",
       "    </tr>\n",
       "    <tr>\n",
       "      <th>734</th>\n",
       "      <td>7.03</td>\n",
       "      <td>+ 5585</td>\n",
       "      <td>-6 470</td>\n",
       "    </tr>\n",
       "    <tr>\n",
       "      <th>735</th>\n",
       "      <td>8.03</td>\n",
       "      <td>+ 13152</td>\n",
       "      <td>2 945</td>\n",
       "    </tr>\n",
       "    <tr>\n",
       "      <th>736</th>\n",
       "      <td>9.03</td>\n",
       "      <td>+ 14415</td>\n",
       "      <td>4 355</td>\n",
       "    </tr>\n",
       "    <tr>\n",
       "      <th>737</th>\n",
       "      <td>10.03</td>\n",
       "      <td>+ 13438</td>\n",
       "      <td>4 794</td>\n",
       "    </tr>\n",
       "    <tr>\n",
       "      <th>738</th>\n",
       "      <td>11.03</td>\n",
       "      <td>+ 11637</td>\n",
       "      <td>2 917</td>\n",
       "    </tr>\n",
       "  </tbody>\n",
       "</table>\n",
       "<p>739 rows × 3 columns</p>\n",
       "</div>"
      ]
     },
     "execution_count": 22,
     "metadata": {},
     "output_type": "execute_result"
    }
   ],
   "execution_count": 22
  },
  {
   "cell_type": "code",
   "source": [
    "print(df.dtypes)\n",
    "typ_komorki = df.at[0, 'Nowe przypadki']\n",
    "\n",
    "print(\"Typ komórki:\", type(typ_komorki))\n",
    "#convert columns 'Nowe przypadki' and 'Zmiana liczby aktywnych przypadków' to int\n",
    "df['Nowe przypadki'] = df['Nowe przypadki'].str.replace(' ', '')\n",
    "df['Zmiana liczby aktywnych przypadków'] = df['Zmiana liczby aktywnych przypadków'].str.replace(' ', '')\n",
    "\n",
    "df['Nowe przypadki'] = df['Nowe przypadki'].astype(int)\n",
    "df['Zmiana liczby aktywnych przypadków'] = df['Zmiana liczby aktywnych przypadków'].astype(int)\n"
   ],
   "metadata": {
    "collapsed": false,
    "ExecuteTime": {
     "end_time": "2024-04-20T14:30:19.177502Z",
     "start_time": "2024-04-20T14:30:19.170986Z"
    }
   },
   "outputs": [
    {
     "name": "stdout",
     "output_type": "stream",
     "text": [
      "Data                                  float64\n",
      "Nowe przypadki                         object\n",
      "Zmiana liczby aktywnych przypadków     object\n",
      "dtype: object\n",
      "Typ komórki: <class 'str'>\n"
     ]
    }
   ],
   "execution_count": 23
  },
  {
   "cell_type": "code",
   "source": "df.tail()",
   "metadata": {
    "collapsed": false,
    "ExecuteTime": {
     "end_time": "2024-04-20T14:31:14.417340Z",
     "start_time": "2024-04-20T14:31:14.410514Z"
    }
   },
   "outputs": [
    {
     "data": {
      "text/plain": [
       "      Data  Nowe przypadki  Zmiana liczby aktywnych przypadków\n",
       "734   7.03            5585                               -6470\n",
       "735   8.03           13152                                2945\n",
       "736   9.03           14415                                4355\n",
       "737  10.03           13438                                4794\n",
       "738  11.03           11637                                2917"
      ],
      "text/html": [
       "<div>\n",
       "<style scoped>\n",
       "    .dataframe tbody tr th:only-of-type {\n",
       "        vertical-align: middle;\n",
       "    }\n",
       "\n",
       "    .dataframe tbody tr th {\n",
       "        vertical-align: top;\n",
       "    }\n",
       "\n",
       "    .dataframe thead th {\n",
       "        text-align: right;\n",
       "    }\n",
       "</style>\n",
       "<table border=\"1\" class=\"dataframe\">\n",
       "  <thead>\n",
       "    <tr style=\"text-align: right;\">\n",
       "      <th></th>\n",
       "      <th>Data</th>\n",
       "      <th>Nowe przypadki</th>\n",
       "      <th>Zmiana liczby aktywnych przypadków</th>\n",
       "    </tr>\n",
       "  </thead>\n",
       "  <tbody>\n",
       "    <tr>\n",
       "      <th>734</th>\n",
       "      <td>7.03</td>\n",
       "      <td>5585</td>\n",
       "      <td>-6470</td>\n",
       "    </tr>\n",
       "    <tr>\n",
       "      <th>735</th>\n",
       "      <td>8.03</td>\n",
       "      <td>13152</td>\n",
       "      <td>2945</td>\n",
       "    </tr>\n",
       "    <tr>\n",
       "      <th>736</th>\n",
       "      <td>9.03</td>\n",
       "      <td>14415</td>\n",
       "      <td>4355</td>\n",
       "    </tr>\n",
       "    <tr>\n",
       "      <th>737</th>\n",
       "      <td>10.03</td>\n",
       "      <td>13438</td>\n",
       "      <td>4794</td>\n",
       "    </tr>\n",
       "    <tr>\n",
       "      <th>738</th>\n",
       "      <td>11.03</td>\n",
       "      <td>11637</td>\n",
       "      <td>2917</td>\n",
       "    </tr>\n",
       "  </tbody>\n",
       "</table>\n",
       "</div>"
      ]
     },
     "execution_count": 35,
     "metadata": {},
     "output_type": "execute_result"
    }
   ],
   "execution_count": 35
  },
  {
   "cell_type": "markdown",
   "source": [
    "# TODO: DOKOŃCZYĆ PREPROCESSING"
   ],
   "metadata": {
    "collapsed": false
   }
  },
  {
   "cell_type": "code",
   "source": [
    "# TODO: DOKOŃCZYĆ PREPROCESSING"
   ],
   "metadata": {
    "collapsed": false,
    "ExecuteTime": {
     "end_time": "2024-04-20T14:30:19.594185Z",
     "start_time": "2024-04-20T14:30:19.591185Z"
    }
   },
   "outputs": [],
   "execution_count": 27
  },
  {
   "cell_type": "markdown",
   "source": [
    "## Visualisation"
   ],
   "metadata": {
    "collapsed": false
   }
  },
  {
   "cell_type": "code",
   "source": [
    "def visualise():\n",
    "    pass"
   ],
   "metadata": {
    "collapsed": false,
    "ExecuteTime": {
     "end_time": "2024-04-20T14:30:19.625445Z",
     "start_time": "2024-04-20T14:30:19.622364Z"
    }
   },
   "outputs": [],
   "execution_count": 28
  },
  {
   "cell_type": "markdown",
   "source": [
    "## Create Model"
   ],
   "metadata": {
    "collapsed": false
   }
  },
  {
   "cell_type": "code",
   "source": [
    "class TransformerModel(nn.Module):\n",
    "    def __init__(self, input_size, output_size, num_layers=2, hidden_size=64, num_heads=4, dropout=0.1):\n",
    "        super(TransformerModel, self).__init__()\n",
    "        encoder_layer = nn.TransformerEncoderLayer(d_model=input_size, nhead=num_heads, dropout=dropout)\n",
    "        self.transformer_encoder = nn.TransformerEncoder(encoder_layer, num_layers=num_layers)\n",
    "        self.fc = nn.Linear(input_size, output_size)\n",
    "\n",
    "    def forward(self, src):\n",
    "        src = src.permute(1, 0, 2)  # wymagane wymiary [seq_len, batch, input_size]\n",
    "        output = self.transformer_encoder(src)\n",
    "        output = self.fc(output[-1, :, :])  # ostatni element z sekwencji\n",
    "        return output"
   ],
   "metadata": {
    "collapsed": false,
    "ExecuteTime": {
     "end_time": "2024-04-20T14:30:19.658388Z",
     "start_time": "2024-04-20T14:30:19.653989Z"
    }
   },
   "outputs": [],
   "execution_count": 29
  },
  {
   "cell_type": "markdown",
   "source": [
    "## Training"
   ],
   "metadata": {
    "collapsed": false
   }
  },
  {
   "cell_type": "code",
   "source": [
    "data = df[['Data', 'Nowe przypadki', 'Zmiana liczby aktywnych przypadków']].copy()\n",
    "data['Data'] = pd.to_datetime(data['Data'])\n",
    "data.set_index('Data', inplace=True)\n",
    "\n",
    "data = (data - data.mean()) / data.std()\n",
    "\n",
    "train_data = data.iloc[:int(0.8 * len(data))]\n",
    "test_data = data.iloc[int(0.8 * len(data)):]\n",
    "\n",
    "X_train = torch.tensor(train_data.values, dtype=torch.float32)\n",
    "X_test = torch.tensor(test_data.values, dtype=torch.float32)"
   ],
   "metadata": {
    "collapsed": false,
    "ExecuteTime": {
     "end_time": "2024-04-20T14:30:19.705395Z",
     "start_time": "2024-04-20T14:30:19.683019Z"
    }
   },
   "outputs": [],
   "execution_count": 30
  },
  {
   "cell_type": "code",
   "source": [
    "def train_and_evaluate(model, epochs, criterion, optimizer):\n",
    "    for epoch in range(epochs):\n",
    "        model.train()\n",
    "        optimizer.zero_grad()\n",
    "        output = model(X_train)\n",
    "        loss = criterion(output, X_train)\n",
    "        loss.backward()\n",
    "        optimizer.step()\n",
    "        if (epoch+1) % 10 == 0:\n",
    "            print(f'Epoch [{epoch+1}/{epochs}], Loss: {loss.item():.4f}')\n",
    "\n",
    "    model.eval()\n",
    "    with torch.no_grad():\n",
    "        predicted = model(X_test)\n",
    "        predicted = predicted.detach().numpy()"
   ],
   "metadata": {
    "collapsed": false,
    "ExecuteTime": {
     "end_time": "2024-04-20T14:30:19.744847Z",
     "start_time": "2024-04-20T14:30:19.740271Z"
    }
   },
   "outputs": [],
   "execution_count": 31
  },
  {
   "cell_type": "markdown",
   "source": [
    "## Evaluation"
   ],
   "metadata": {
    "collapsed": false
   }
  },
  {
   "cell_type": "code",
   "source": [
    "input_size = 0\n",
    "output_size = 0\n",
    "num_layers = 0\n",
    "hidden_size = 0\n",
    "num_heads = 0\n",
    "dropout = 0\n",
    "\n",
    "model = TransformerModel(input_size, output_size, num_layers, hidden_size, num_heads, dropout)\n",
    "\n",
    "criterion = nn.MSELoss()\n",
    "optimizer = torch.optim.Adam(model.parameters(), lr=0.001)\n",
    "epochs = 100\n",
    "\n",
    "train_and_evaluate(model, epochs, criterion, optimizer)"
   ],
   "metadata": {
    "collapsed": false,
    "ExecuteTime": {
     "end_time": "2024-04-20T14:30:19.850914Z",
     "start_time": "2024-04-20T14:30:19.761294Z"
    }
   },
   "outputs": [
    {
     "ename": "ValueError",
     "evalue": "embed_dim and num_heads must be greater than 0, got embed_dim=0 and num_heads=0 instead",
     "output_type": "error",
     "traceback": [
      "\u001B[1;31m---------------------------------------------------------------------------\u001B[0m",
      "\u001B[1;31mValueError\u001B[0m                                Traceback (most recent call last)",
      "Cell \u001B[1;32mIn[32], line 8\u001B[0m\n\u001B[0;32m      5\u001B[0m num_heads \u001B[38;5;241m=\u001B[39m \u001B[38;5;241m0\u001B[39m\n\u001B[0;32m      6\u001B[0m dropout \u001B[38;5;241m=\u001B[39m \u001B[38;5;241m0\u001B[39m\n\u001B[1;32m----> 8\u001B[0m model \u001B[38;5;241m=\u001B[39m \u001B[43mTransformerModel\u001B[49m\u001B[43m(\u001B[49m\u001B[43minput_size\u001B[49m\u001B[43m,\u001B[49m\u001B[43m \u001B[49m\u001B[43moutput_size\u001B[49m\u001B[43m,\u001B[49m\u001B[43m \u001B[49m\u001B[43mnum_layers\u001B[49m\u001B[43m,\u001B[49m\u001B[43m \u001B[49m\u001B[43mhidden_size\u001B[49m\u001B[43m,\u001B[49m\u001B[43m \u001B[49m\u001B[43mnum_heads\u001B[49m\u001B[43m,\u001B[49m\u001B[43m \u001B[49m\u001B[43mdropout\u001B[49m\u001B[43m)\u001B[49m\n\u001B[0;32m     10\u001B[0m criterion \u001B[38;5;241m=\u001B[39m nn\u001B[38;5;241m.\u001B[39mMSELoss()\n\u001B[0;32m     11\u001B[0m optimizer \u001B[38;5;241m=\u001B[39m torch\u001B[38;5;241m.\u001B[39moptim\u001B[38;5;241m.\u001B[39mAdam(model\u001B[38;5;241m.\u001B[39mparameters(), lr\u001B[38;5;241m=\u001B[39m\u001B[38;5;241m0.001\u001B[39m)\n",
      "Cell \u001B[1;32mIn[29], line 4\u001B[0m, in \u001B[0;36mTransformerModel.__init__\u001B[1;34m(self, input_size, output_size, num_layers, hidden_size, num_heads, dropout)\u001B[0m\n\u001B[0;32m      2\u001B[0m \u001B[38;5;28;01mdef\u001B[39;00m \u001B[38;5;21m__init__\u001B[39m(\u001B[38;5;28mself\u001B[39m, input_size, output_size, num_layers\u001B[38;5;241m=\u001B[39m\u001B[38;5;241m2\u001B[39m, hidden_size\u001B[38;5;241m=\u001B[39m\u001B[38;5;241m64\u001B[39m, num_heads\u001B[38;5;241m=\u001B[39m\u001B[38;5;241m4\u001B[39m, dropout\u001B[38;5;241m=\u001B[39m\u001B[38;5;241m0.1\u001B[39m):\n\u001B[0;32m      3\u001B[0m     \u001B[38;5;28msuper\u001B[39m(TransformerModel, \u001B[38;5;28mself\u001B[39m)\u001B[38;5;241m.\u001B[39m\u001B[38;5;21m__init__\u001B[39m()\n\u001B[1;32m----> 4\u001B[0m     encoder_layer \u001B[38;5;241m=\u001B[39m \u001B[43mnn\u001B[49m\u001B[38;5;241;43m.\u001B[39;49m\u001B[43mTransformerEncoderLayer\u001B[49m\u001B[43m(\u001B[49m\u001B[43md_model\u001B[49m\u001B[38;5;241;43m=\u001B[39;49m\u001B[43minput_size\u001B[49m\u001B[43m,\u001B[49m\u001B[43m \u001B[49m\u001B[43mnhead\u001B[49m\u001B[38;5;241;43m=\u001B[39;49m\u001B[43mnum_heads\u001B[49m\u001B[43m,\u001B[49m\u001B[43m \u001B[49m\u001B[43mdropout\u001B[49m\u001B[38;5;241;43m=\u001B[39;49m\u001B[43mdropout\u001B[49m\u001B[43m)\u001B[49m\n\u001B[0;32m      5\u001B[0m     \u001B[38;5;28mself\u001B[39m\u001B[38;5;241m.\u001B[39mtransformer_encoder \u001B[38;5;241m=\u001B[39m nn\u001B[38;5;241m.\u001B[39mTransformerEncoder(encoder_layer, num_layers\u001B[38;5;241m=\u001B[39mnum_layers)\n\u001B[0;32m      6\u001B[0m     \u001B[38;5;28mself\u001B[39m\u001B[38;5;241m.\u001B[39mfc \u001B[38;5;241m=\u001B[39m nn\u001B[38;5;241m.\u001B[39mLinear(input_size, output_size)\n",
      "File \u001B[1;32m~\\PycharmProjects\\Lab5_ssn\\venv\\Lib\\site-packages\\torch\\nn\\modules\\transformer.py:560\u001B[0m, in \u001B[0;36mTransformerEncoderLayer.__init__\u001B[1;34m(self, d_model, nhead, dim_feedforward, dropout, activation, layer_norm_eps, batch_first, norm_first, bias, device, dtype)\u001B[0m\n\u001B[0;32m    558\u001B[0m factory_kwargs \u001B[38;5;241m=\u001B[39m {\u001B[38;5;124m'\u001B[39m\u001B[38;5;124mdevice\u001B[39m\u001B[38;5;124m'\u001B[39m: device, \u001B[38;5;124m'\u001B[39m\u001B[38;5;124mdtype\u001B[39m\u001B[38;5;124m'\u001B[39m: dtype}\n\u001B[0;32m    559\u001B[0m \u001B[38;5;28msuper\u001B[39m()\u001B[38;5;241m.\u001B[39m\u001B[38;5;21m__init__\u001B[39m()\n\u001B[1;32m--> 560\u001B[0m \u001B[38;5;28mself\u001B[39m\u001B[38;5;241m.\u001B[39mself_attn \u001B[38;5;241m=\u001B[39m \u001B[43mMultiheadAttention\u001B[49m\u001B[43m(\u001B[49m\u001B[43md_model\u001B[49m\u001B[43m,\u001B[49m\u001B[43m \u001B[49m\u001B[43mnhead\u001B[49m\u001B[43m,\u001B[49m\u001B[43m \u001B[49m\u001B[43mdropout\u001B[49m\u001B[38;5;241;43m=\u001B[39;49m\u001B[43mdropout\u001B[49m\u001B[43m,\u001B[49m\n\u001B[0;32m    561\u001B[0m \u001B[43m                                    \u001B[49m\u001B[43mbias\u001B[49m\u001B[38;5;241;43m=\u001B[39;49m\u001B[43mbias\u001B[49m\u001B[43m,\u001B[49m\u001B[43m \u001B[49m\u001B[43mbatch_first\u001B[49m\u001B[38;5;241;43m=\u001B[39;49m\u001B[43mbatch_first\u001B[49m\u001B[43m,\u001B[49m\n\u001B[0;32m    562\u001B[0m \u001B[43m                                    \u001B[49m\u001B[38;5;241;43m*\u001B[39;49m\u001B[38;5;241;43m*\u001B[39;49m\u001B[43mfactory_kwargs\u001B[49m\u001B[43m)\u001B[49m\n\u001B[0;32m    563\u001B[0m \u001B[38;5;66;03m# Implementation of Feedforward model\u001B[39;00m\n\u001B[0;32m    564\u001B[0m \u001B[38;5;28mself\u001B[39m\u001B[38;5;241m.\u001B[39mlinear1 \u001B[38;5;241m=\u001B[39m Linear(d_model, dim_feedforward, bias\u001B[38;5;241m=\u001B[39mbias, \u001B[38;5;241m*\u001B[39m\u001B[38;5;241m*\u001B[39mfactory_kwargs)\n",
      "File \u001B[1;32m~\\PycharmProjects\\Lab5_ssn\\venv\\Lib\\site-packages\\torch\\nn\\modules\\activation.py:976\u001B[0m, in \u001B[0;36mMultiheadAttention.__init__\u001B[1;34m(self, embed_dim, num_heads, dropout, bias, add_bias_kv, add_zero_attn, kdim, vdim, batch_first, device, dtype)\u001B[0m\n\u001B[0;32m    973\u001B[0m \u001B[38;5;28;01mdef\u001B[39;00m \u001B[38;5;21m__init__\u001B[39m(\u001B[38;5;28mself\u001B[39m, embed_dim, num_heads, dropout\u001B[38;5;241m=\u001B[39m\u001B[38;5;241m0.\u001B[39m, bias\u001B[38;5;241m=\u001B[39m\u001B[38;5;28;01mTrue\u001B[39;00m, add_bias_kv\u001B[38;5;241m=\u001B[39m\u001B[38;5;28;01mFalse\u001B[39;00m, add_zero_attn\u001B[38;5;241m=\u001B[39m\u001B[38;5;28;01mFalse\u001B[39;00m,\n\u001B[0;32m    974\u001B[0m              kdim\u001B[38;5;241m=\u001B[39m\u001B[38;5;28;01mNone\u001B[39;00m, vdim\u001B[38;5;241m=\u001B[39m\u001B[38;5;28;01mNone\u001B[39;00m, batch_first\u001B[38;5;241m=\u001B[39m\u001B[38;5;28;01mFalse\u001B[39;00m, device\u001B[38;5;241m=\u001B[39m\u001B[38;5;28;01mNone\u001B[39;00m, dtype\u001B[38;5;241m=\u001B[39m\u001B[38;5;28;01mNone\u001B[39;00m) \u001B[38;5;241m-\u001B[39m\u001B[38;5;241m>\u001B[39m \u001B[38;5;28;01mNone\u001B[39;00m:\n\u001B[0;32m    975\u001B[0m     \u001B[38;5;28;01mif\u001B[39;00m embed_dim \u001B[38;5;241m<\u001B[39m\u001B[38;5;241m=\u001B[39m \u001B[38;5;241m0\u001B[39m \u001B[38;5;129;01mor\u001B[39;00m num_heads \u001B[38;5;241m<\u001B[39m\u001B[38;5;241m=\u001B[39m \u001B[38;5;241m0\u001B[39m:\n\u001B[1;32m--> 976\u001B[0m         \u001B[38;5;28;01mraise\u001B[39;00m \u001B[38;5;167;01mValueError\u001B[39;00m(\n\u001B[0;32m    977\u001B[0m             \u001B[38;5;124mf\u001B[39m\u001B[38;5;124m\"\u001B[39m\u001B[38;5;124membed_dim and num_heads must be greater than 0,\u001B[39m\u001B[38;5;124m\"\u001B[39m\n\u001B[0;32m    978\u001B[0m             \u001B[38;5;124mf\u001B[39m\u001B[38;5;124m\"\u001B[39m\u001B[38;5;124m got embed_dim=\u001B[39m\u001B[38;5;132;01m{\u001B[39;00membed_dim\u001B[38;5;132;01m}\u001B[39;00m\u001B[38;5;124m and num_heads=\u001B[39m\u001B[38;5;132;01m{\u001B[39;00mnum_heads\u001B[38;5;132;01m}\u001B[39;00m\u001B[38;5;124m instead\u001B[39m\u001B[38;5;124m\"\u001B[39m\n\u001B[0;32m    979\u001B[0m         )\n\u001B[0;32m    980\u001B[0m     factory_kwargs \u001B[38;5;241m=\u001B[39m {\u001B[38;5;124m'\u001B[39m\u001B[38;5;124mdevice\u001B[39m\u001B[38;5;124m'\u001B[39m: device, \u001B[38;5;124m'\u001B[39m\u001B[38;5;124mdtype\u001B[39m\u001B[38;5;124m'\u001B[39m: dtype}\n\u001B[0;32m    981\u001B[0m     \u001B[38;5;28msuper\u001B[39m()\u001B[38;5;241m.\u001B[39m\u001B[38;5;21m__init__\u001B[39m()\n",
      "\u001B[1;31mValueError\u001B[0m: embed_dim and num_heads must be greater than 0, got embed_dim=0 and num_heads=0 instead"
     ]
    }
   ],
   "execution_count": 32
  },
  {
   "cell_type": "markdown",
   "source": [
    "## Conclusion"
   ],
   "metadata": {
    "collapsed": false
   }
  },
  {
   "cell_type": "code",
   "source": [
    "# TODO: Do testowania proszę użyć kilku podejść podziału danych na uczące- testujace:\n",
    "# TODO: (https://hub.packtpub.com/cross-validation-strategies-for-time-series-forecasting-tutorial/)\n",
    "# TODO: -K-Fold, Time SeriesSplit, Blocking Time Series Split\n",
    "# TODO: Dla każdego wyniku stosujemy różne miary błędu (ewaluacji) MSE, MAE, R^2,  specyficzność czułość, index of agreement itp.."
   ],
   "metadata": {
    "collapsed": false
   },
   "outputs": [],
   "execution_count": null
  },
  {
   "cell_type": "code",
   "source": [],
   "metadata": {
    "collapsed": false
   },
   "outputs": [],
   "execution_count": null
  }
 ],
 "metadata": {
  "kernelspec": {
   "display_name": "Python 3",
   "language": "python",
   "name": "python3"
  },
  "language_info": {
   "codemirror_mode": {
    "name": "ipython",
    "version": 2
   },
   "file_extension": ".py",
   "mimetype": "text/x-python",
   "name": "python",
   "nbconvert_exporter": "python",
   "pygments_lexer": "ipython2",
   "version": "2.7.6"
  }
 },
 "nbformat": 4,
 "nbformat_minor": 0
}
